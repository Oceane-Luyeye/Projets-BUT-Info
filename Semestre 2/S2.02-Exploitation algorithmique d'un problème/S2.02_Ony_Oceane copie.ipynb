{
 "cells": [
  {
   "cell_type": "markdown",
   "id": "fbfa99ee",
   "metadata": {},
   "source": [
    "<div style=\"background-color:#955149; border : 3px solid black; border-radius : 0px; padding : 2%;text-align : center;font-size : 2em;font-weight : bold; color:#f5efe6;  text-shadow: 6px 3px #000; letter-spacing: 3px;\" >\n",
    "    Coloration : Algorithme de Brelaz\n",
    "</div>"
   ]
  },
  {
   "cell_type": "markdown",
   "id": "01ac787f",
   "metadata": {},
   "source": [
    "<div style=\"text-align : center; letter-spacing: 2px;\">Par Océane LUYEYE LU MVUALA et Ony ANDRIATSAHAVOJAONA - Groupe PEGASUS</div>"
   ]
  },
  {
   "cell_type": "markdown",
   "id": "7d488d23",
   "metadata": {},
   "source": [
    "<p>\n",
    "Dans le cadre de la <strong>SAE202 : Exploration algorithmique d'un problème</strong> Il nous a été demandé de réaliser un projet mathématiques et informatique. Après concertation avec notre enseignant <em>Baroukh Leila</em>, nous avons choisi de réaliser le projet <strong style =\"text-decoration: underline solid #000000;\">Coloration : Algorithme de Brelaz</strong>.\n",
    "</p>\n",
    "\n",
    "<p>\n",
    "    Voici la description qui a été donnée : \n",
    "    <ul>\n",
    "        <li><strong>Niveau de difficulté</strong> : &star; &star;</li>\n",
    "        <li><strong>Description</strong> :  Nous avons vu en cours un algorithme heuristique permettant d'estimer le nombre chromatique d'un graphe non orienté.</li>\n",
    "        <li><strong>Animation</strong> : La coloration des différents sommets d'un graphe.</li>\n",
    "    </ul>\n",
    "</p>\n",
    "\n",
    "<p>En effet, l'un des objectifs du projet est, entre autre, de réaliser au moins une animation. Pour ce faire, nous avons entièrement réaliser le TP dédié (disponible en ligne sur le site web<a href =\"https://www.google.com/url?sa=t&rct=j&q=&esrc=s&source=web&cd=&cad=rja&uact=8&ved=2ahUKEwiOmbLRlfn3AhUxz4UKHfvzAAcQFnoECAsQAQ&url=https%3A%2F%2Fwww.ataraxy.info%2F&usg=AOvVaw20PYNhAKQLl37LTuRDA-Tw\" > Ataraxy.info </a>du Docteur et professeur agrégé de mathématiques <em>David Hébert</em> <a href=\"https://www.ataraxy.info/COEUR/Modules/MethodesNumeriques/TP/Graphiques%20et%20animations-CORRECTION.html\">ici</a>).\n",
    "\n",
    "\n",
    "<p>\n",
    "Nous avons travailler environ 60h sur ce projet et avons réparti le travail comme suit : \n",
    "    <ul>\n",
    "        <li><strong>Océane</strong> : ..................</li>\n",
    "        <li><strong>Ony</strong> : ......................</li>\n",
    "    </ul>\n",
    "</p>"
   ]
  },
  {
   "cell_type": "markdown",
   "id": "d12ffac4",
   "metadata": {},
   "source": [
    "<div style=\"color: #955149; border : 3px solid black; border-radius : 0px; padding : 2%;text-align : center;font-size : 2em;font-weight : bold;  text-shadow: 3px 2px #000; letter-spacing: 3px;\">\n",
    "Sommaire\n",
    "</div>"
   ]
  },
  {
   "cell_type": "markdown",
   "id": "a32494ca",
   "metadata": {},
   "source": [
    "<ul style=\"letter-spacing: 2px;\">\n",
    "<li><strong>Introduction</strong></li>\n",
    "<li><strong>I - Une longue route pour parvenir à l'arc en ciel</strong></li>\n",
    "<li><strong>II -  Visualisation de l'algorithme </strong></li>\n",
    "<li><strong>III -Complexité de l'algorithme ? </strong></li>\n",
    "    \n",
    "</ul>"
   ]
  },
  {
   "cell_type": "markdown",
   "id": "b8a65fb6",
   "metadata": {},
   "source": [
    "<div style=\"color: #955149; border : 3px solid black; border-radius : 0px; padding : 2%;text-align : center;font-size : 2em;font-weight : bold;  text-shadow: 3px 2px #000; letter-spacing: 3px;\">\n",
    "Bibliothèques\n",
    "</div>"
   ]
  },
  {
   "cell_type": "markdown",
   "id": "7a1a466e",
   "metadata": {},
   "source": [
    "<p>Nous avons besoin de plusieurs bibliothèques afin d'éxecuter nos programmes ainsi que d'effectuer nos graphiques et nos animations.</p>"
   ]
  },
  {
   "cell_type": "code",
   "execution_count": 5,
   "id": "4349448e",
   "metadata": {},
   "outputs": [],
   "source": [
    "#pour effectuer des calculs en python\n",
    "import math\n",
    "#pour les graphiques en python\n",
    "from matplotlib.pyplot import *\n",
    "#pour les animations en pyton\n",
    "import networkx as nx\n",
    "from matplotlib import animation\n",
    "from IPython.display import HTML\n",
    "\n"
   ]
  },
  {
   "cell_type": "markdown",
   "id": "164081ce",
   "metadata": {},
   "source": [
    "<div style=\"background-color:#955149; border : 3px solid black; border-radius : 0px; padding : 2%;text-align : center;font-size : 2em;font-weight : bold; color:#f5efe6;  text-shadow: 6px 3px #000; letter-spacing: 3px;\" >\n",
    "Introduction\n",
    "</div>"
   ]
  },
  {
   "cell_type": "markdown",
   "id": "522e03a9",
   "metadata": {},
   "source": [
    "<p> Depuis le 19ème, la coloration des graphes constitue à lui seul une véritable problématique auprès de la communauté scientifique. Le principe de colorer un graphe noté $G$ et d’affecter une couleur à chacun de ses sommets de telle sorte que deux sommets adjacents ne se retrouvent pas avec la même couleur. Mais alors d’où provient cette propriété représentant un véritable concept dans la théorie des graphes ?</p>\n",
    "\n",
    "\n",
    "    \n",
    "<p>En 1852, c’est le célèbre mathématicien Francis Guthrie qui postule sa conjecture des quatre couleurs. En effet, pour élaborer son rapport celui-ci a mis en couleurs la carte d'Angleterre et s’est rendu compte qu’il ne fallait en réalité seulement 4 couleurs  pour colorier la surface de la carte de façon à ce que chaque zone de la carte (représentant en réalité un sommet d’un graphe)  qui sont côtés à cote ne soient pas de la même couleur.</p>\n",
    "    \n",
    "    \n",
    "    \n",
    "    \n",
    "    \n",
    "<p>La recherche s’est étendue auprès de la communauté scientifique de façon à optimiser au mieux le nombre de couleurs à utiliser. Ainsi, l’ultime but en théorie des couleurs est de réussir à définir le nombre minimal de couleur à utiliser pour colorier tous les sommets d’un graphe et c’est ce que l’on appelle le <i><strong>nombre chromatique</strong></i></p>\n",
    "\n",
    "\n",
    "\n",
    "    \n",
    "<p>La connaissance exacte du nombre chromatique d’un graphe, c’est-à-dire le nombre de couleur minimal à utiliser pour colorier un graphe, ne représente en réalité qu’une approche de ce nombre . Nous étudierons ainsi dans le cadre de ce projet l’algorithme de Brelaz, autrement appelé DSATUR, qui nous permettra de découvrir les diverses spécificités concernant une coloration optimale d’un graphe.</p>"
   ]
  },
  {
   "cell_type": "markdown",
   "id": "94306ea6",
   "metadata": {},
   "source": [
    "<div style=\"background-color:#955149; border : 3px solid black; border-radius : 0px; padding : 2%;text-align : center;font-size : 2em;font-weight : bold; color:#f5efe6;  text-shadow: 6px 3px #000; letter-spacing: 3px;\" >\n",
    "I - Présentation de ce que c'est un graphe \n",
    "</div>"
   ]
  },
  {
   "cell_type": "markdown",
   "id": "211be6f2",
   "metadata": {},
   "source": [
    "<div style=\"color: #955149; border : 3px solid black; border-radius : 0px; padding : 2%;text-align : center;font-size : 2em;font-weight : bold;  text-shadow: 3px 2px #000; letter-spacing: 3px;\">\n",
    "I - Qu'est-ce qu'un graphe ?\n",
    "</div>"
   ]
  },
  {
   "cell_type": "markdown",
   "id": "c78b4743",
   "metadata": {},
   "source": [
    "<h3>Définition </h3>"
   ]
  },
  {
   "cell_type": "markdown",
   "id": "1a534457",
   "metadata": {},
   "source": [
    "<p>Un graphe est un ensemble de sommmets inter-relier entre eux par le biais d'arretes ou d'arc .<br>Ces modèles mathématiques peuvent être utilisés pour modéliser une multitude de réseaux interconnectés tels que, des réseaux de télécommunication , des réseaux informatiques ou même des réseaux de mobilité interurbaine, un jeu de sudoku et bien plus encore.<br>\n",
    "Un graphe est un couple $G$ = ($V$, $E$) comprenant  $V$ un ensemble de sommets (aussi appelés nœuds) noté :\n",
    "$E$  ⊆ {{x, y} | (x, y) ∈ $V^{2}$ ∧ x ≠ $y$} un ensemble d'arêtes (aussi appelées liens), qui sont des paires de sommets (c.-à-d. qu'une arête est associée à deux sommets distincts).<br>\n",
    "Nous étudierons deux types de graphes distinct d’une part les graphes non orientés et d’autres part les graphes orientés.</p>\n"
   ]
  },
  {
   "cell_type": "markdown",
   "id": "37facf15",
   "metadata": {},
   "source": [
    "<div style=\"background-color:#955149; border : 3px solid black; border-radius : 0px; padding : 2%;text-align : center;font-size : 2em;font-weight : bold; color:#f5efe6;  text-shadow: 6px 3px #000; letter-spacing: 3px;\" >\n",
    "Les graphes non orientés\n",
    "</div>\n"
   ]
  },
  {
   "cell_type": "markdown",
   "id": "fa60ee77",
   "metadata": {},
   "source": [
    "<p>Fondamentalement, ce type de représentation peut être appelé précisément un graphe simple non orienté. On dit que l'arête joint $x$ et $y$ et est incidente sur $x$ et sur $y$. Un sommet peut exister dans un graphe sans arête incidente. Les arêtes multiples sont deux arêtes ou plus qui joignent les mêmes deux sommets ; \n",
    "Soit un graphe non orienté $G$ est la représentation : <br>\n",
    "D'un ensemble fini et non vide noté $Som(G)$ appelés les sommets du graphe $G$<br>\n",
    "D'un ensemble noté $Ar(G)$ appelés les arêtes du graphe $G$ dont les éléments sont des ensembles formés de deux éléments $Som(G)$</p>\n"
   ]
  },
  {
   "cell_type": "code",
   "execution_count": 9,
   "id": "d24ca1d5",
   "metadata": {},
   "outputs": [],
   "source": [
    "G = {'a': ['b', 'c'], 'b': ['a', 'd', 'e'], 'c': ['a', 'd'], 'd': ['b', 'c', 'e'], 'e': ['b', 'd', 'f', 'g'], 'f': ['e', 'g'], 'g': ['e', 'f', 'h'], 'h': ['g']}\n"
   ]
  },
  {
   "cell_type": "code",
   "execution_count": null,
   "id": "38812adc",
   "metadata": {},
   "outputs": [],
   "source": [
    "g = nx.Graph()\n",
    "#g.add_nodes_from(graphe.keys())\n",
    "for x,y in G.items():\n",
    "    g.add_nodes_from(x)\n",
    "    for i in y:\n",
    "        g.add_edge(x, i)\n",
    "        \n",
    "options = {\n",
    "      'node_color' : 'white',\n",
    "     'node_size'  : 550,\n",
    "     'edge_color' : 'tab:grey',\n",
    "    'with_labels': True\n",
    "   }\n",
    "\n",
    "nx.draw(g,**options)\n",
    "plt.title('Graphe illustratoire', size=15)\n",
    "plt.show()\n"
   ]
  },
  {
   "cell_type": "markdown",
   "id": "fa84a586",
   "metadata": {},
   "source": [
    "<div style=\"background-color:#955149; border : 3px solid black; border-radius : 0px; padding : 2%;text-align : center;font-size : 2em;font-weight : bold; color:#f5efe6;  text-shadow: 6px 3px #000; letter-spacing: 3px;\" >\n",
    "Les graphes orientés\n",
    "</div>"
   ]
  },
  {
   "cell_type": "markdown",
   "id": "dad67788",
   "metadata": {},
   "source": [
    "<p>D’autre part , un graphe orientés G est la représentation de : <br>\n",
    "    \n",
    "Un ensemble noté $Arc(G)$ appelé les Arcs du graphe $G$ dont les éléments sont des couples de $Som(G)$.\n",
    "Contrairement aux graphes non orientés vus ci-dessus, les graphes orientés ont une certaine particularité ce que l’on nomme des boucles : Une boucle est une arête qui joint un sommet à lui-même.</p>\n",
    "\n",
    "<p>Un graphe orienté est un graphe dans lequel les arêtes possèdent une orientation. Fondamentalement, un graphe orienté est un couple $G = (V, A)$ (parfois $G = (V, E)$) comprenant\n",
    "$V$ un ensemble de sommets (aussi appelés nœuds ou points) ;\n",
    "$A$ ⊆ {($x$, $y$) | ($x$, $y$) ∈ $V^{2}$ ∧ x ≠ $y$} un ensemble de flèches (aussi appelées arcs) , qui sont des couples de sommets distincts (c.-à-d. une flèche est associée à deux sommets distincts).\n",
    "Les graphes tels que définis dans la définition précédente ne peuvent pas avoir de boucles, car une boucle joignant un sommet $x$ est l'arête ou est incidente sur {$x$, $x$} = {$x$} qui n'est pas dans  {{$x$, $y$} | ($x$, $y$) ∈ $V^{2}$ ∧ x ≠ $y$}.</p> \n"
   ]
  },
  {
   "cell_type": "markdown",
   "id": "72669c75",
   "metadata": {},
   "source": [
    "## AFFICHER UN GRAPHE"
   ]
  },
  {
   "cell_type": "markdown",
   "id": "71dd68fa",
   "metadata": {},
   "source": [
    "<div style=\"background-color:#955149; border : 3px solid black; border-radius : 0px; padding : 2%;text-align : center;font-size : 2em;font-weight : bold; color:#f5efe6;  text-shadow: 6px 3px #000; letter-spacing: 3px;\" >\n",
    "Petite approche au principe et fonctionnement d'un algorithme glouton\n",
    "</div>"
   ]
  },
  {
   "cell_type": "markdown",
   "id": "cf668d0c",
   "metadata": {},
   "source": [
    "<h3> Vous devez surement vous demander qu'est ce qu'un algorithme glouton ? Et surement à quoi ça sert ? </h3>"
   ]
  },
  {
   "cell_type": "markdown",
   "id": "2f3d5553",
   "metadata": {},
   "source": [
    "<p> En réalité, tous les jours vous mettez en application le principe de l'algorithme glouton sans même vous en rendre compte !</p>\n",
    "<p>Un algorithme glouton mais également parfois appelé algorithme gourmand, est couramment utilisé dans la résolution de problèmes. Le principe d'un tel algorithme consiste à choisir des solutions locales optimales d’un problème dans le but d’espérer obtenir une solution optimale globale au problème. En d’autres termes, un algorithme glouton sélectionne le meilleur choix à chaque étape du système selon un critère donné.    \n",
    "<br>Afin d’illustrer nos propos, prenons désormais l’exemple du rendu de monnaie par le biais du systèmes monétaires français (pièces et billets) sans les centimes qui constituent alors notre critère.</p>"
   ]
  },
  {
   "cell_type": "markdown",
   "id": "5e0f0521",
   "metadata": {},
   "source": [
    "Considérons une somme $X$ qui constitue la somme totale que nous devons étudier ainsi qu’un ensemble de pièces de monnaies de rang $n$ noté $P$ dont l’ensemble constitue le suivant:  $P1$ < $P2$ < … < $Pn$ dont $P1$ = 1, $P2$ = 2…. $Pn$ = $n$ pièces.\n",
    "Considérons également le système monétaire en euro sans les centimes, voici l’ensemble suivant: $En$ = { $P1$, $P2$,.....$Pn$}\n",
    "Notre algorithme glouton sélectionne la plus grande valeur $Pn$ issue de notre ensemble $En$ et \n",
    "la compare donc à $X$.\n",
    "Si $X$ < $Pn$, la pièce de monnaie de valeur $Pn$ ne peut être exploiter, la boucle continue avec une nouvelle valeur $Pn$.\n",
    "Si $X$ < (ou égale jsp comment on le fait) $Pn$, la pièce de monnaie de valeur Pn peut être exploiter une première fois.<br>\n",
    "\n",
    "Ainsi, la pièce de monnaie de valeur $Pn$ sera comptabilisée. L’algorithme peut alors continuer avec le système monétaire identique noté En ainsi que de notre nouvelle somme $X$ - $Pn$.\n",
    "Notre objectif est donc de trouver la valeur $Pn$ donc la pièce ou le billet le plus grand qui soit inférieur à la somme $X$, puis de répéter l’opération jusqu’à arriver à 0.\n",
    "L’algorithme est répété jusqu’à que notre somme notée $X$ soit nulle.<br>\n",
    " \n",
    "Imaginons désormais une situation dans laquelle notre somme $X$ serait le prix d’un gâteau que nous voulons acheter dans une pâtisserie avec le plus petit nombre de pièces et de billets possible afin de garder un maximum de billets et de pièces pour soi.<br>\n",
    "\n",
    "Par exemple, si votre gâteau coûte 33€, l’algorithme va chercher le plus grand billet inférieur à 33€, un billet de 20€. Il reste alors 13€. Nous prenons alors un billet de 10€ étant plus petit que 13 et le nombre le plus grand dans la liste des billets et pièces dont nous avons besoin à cette étape de l’algorithme (10,5,2 et 1). Il reste alors 3€ donc nous prenons 2€. Il nous reste à la fin 1€.\n",
    "Nous paierons donc ce gâteau avec 1 billet de 20€, 1 billet de 10€, 1 pièce de 2€ ainsi qu’1 pièce de 1€.\n",
    "Si nous avons un autre gâteau de 45€, nous devrons alors payer avec 2 billets de 20€ ainsi qu’un billet de 5€.\n"
   ]
  },
  {
   "cell_type": "markdown",
   "id": "98313268",
   "metadata": {},
   "source": [
    "<h2>Implémentation d'un algorithme Glouton</h2>"
   ]
  },
  {
   "cell_type": "code",
   "execution_count": 11,
   "id": "bed59b5c",
   "metadata": {},
   "outputs": [],
   "source": [
    "def monnaieRendu(x):\n",
    "  #Attention, il faut ranger le tableau du plus grand ou plus petit sinon il y aura une erreur \n",
    "  euro = [500,200,100,50,20,10,5,2,1]\n",
    "  i = 0\n",
    "\n",
    "  while(x>0):\n",
    "    if(euro[i] > x):\n",
    "          i = i+1\n",
    "    else:\n",
    "        print(euro[i])\n",
    "        x -= euro[i]"
   ]
  },
  {
   "cell_type": "code",
   "execution_count": 12,
   "id": "f7941c8e",
   "metadata": {},
   "outputs": [
    {
     "name": "stdout",
     "output_type": "stream",
     "text": [
      "20\n",
      "10\n",
      "2\n",
      "1\n"
     ]
    }
   ],
   "source": [
    "#Exemple sur 33€\n",
    "monnaieRendu(33)"
   ]
  },
  {
   "cell_type": "code",
   "execution_count": 13,
   "id": "11836e1e",
   "metadata": {},
   "outputs": [
    {
     "name": "stdout",
     "output_type": "stream",
     "text": [
      "20\n",
      "20\n",
      "5\n"
     ]
    }
   ],
   "source": [
    "#Exemple sur 45€\n",
    "monnaieRendu(45)"
   ]
  },
  {
   "cell_type": "markdown",
   "id": "78cab0f2",
   "metadata": {},
   "source": [
    "<h2> Corélation entre l'algorithme glouton et la coloration des graphes ? </h2>\n",
    "\n",
    "\n",
    "<p>Ainsi, si nous illustrons notre cas d’algorithme glouton dans le cadre de la coloration de graphe, cela consisterait à colorier les sommets un par un avec la plus petite couleur possible.<br>\n",
    "L'ensemble des couleurs possibles étant donné par les couleurs de ses voisins. L’ordre dans lequel les sommets sont traités définit les différentes variantes de d’algorithme.L'algorithme de Brelaz est lui meme un exemple d'algorithme glouton déterminant le plus petit nombre de couleur possible pour colorer un graphe.</p> "
   ]
  },
  {
   "cell_type": "markdown",
   "id": "cdab3da4",
   "metadata": {},
   "source": [
    "<div style=\"background-color:#955149; border : 3px solid black; border-radius : 0px; padding : 2%;text-align : center;font-size : 2em;font-weight : bold; color:#f5efe6;  text-shadow: 6px 3px #000; letter-spacing: 3px;\" >\n",
    "L'algorithme de Brelaz \n",
    "</div>"
   ]
  },
  {
   "cell_type": "markdown",
   "id": "3f7e6ea2",
   "metadata": {},
   "source": [
    "<h3> En quoi consiste l'algorithme ?  </h3>"
   ]
  },
  {
   "cell_type": "markdown",
   "id": "7b32f176",
   "metadata": {},
   "source": [
    "<p>DSATUR (DSAT) ou algorithme de Brélaz est un algorithme de coloration de graphes développé par Daniel Brélaz. DSATUR étant l'abréviation de degré de saturation, il s’agit d’un algorithme de coloration séquentiel par heuristique, dans le sens où un seul sommet est colorié à la fois et tel que: </p>\n",
    "\n",
    "<p>Si nous considérons un graphe $G$. Initialement, aucun des sommets de $G$ n’est colorié, on colorie un sommet non colorié à la fois et on stoppe l’algorithme de Brelaz lorsque tous les sommets de $G$ sont coloriés. \n",
    "Ainsi, la coloration des sommets d'un graphe consiste à affecter à tous les sommets de ce graphe une couleur de telle sorte que deux sommets adjacents ne portent pas la même couleur. Tant qu’il reste encore des sommets non-coloriés l’algorithme continue de tourner et choisi un sommet de degré de couleur maximal afin de lui attribuer une couleur. La couleur qui lui est administrée représente la plus petite couleur.</p><br>\n"
   ]
  },
  {
   "cell_type": "markdown",
   "id": "3391f126",
   "metadata": {},
   "source": [
    "<i><h3>Propriété :</h3></i> <br>\n",
    "Si nous considérons un graphe $G(V,E)$ non orienté. Pour chaque sommet $V$ on calcule le degré de saturation $DSAT(x)$ :<br>\n",
    "Si aucun voisin de $x$ est colorié, alors $DSAT(x)$ = le degré de $x$.<br>\n",
    "Sinon, $DSAT(x)$ = le nombre de couleurs différentes utilisées par les précédents sommets.\n"
   ]
  },
  {
   "cell_type": "markdown",
   "id": "8385b818",
   "metadata": {},
   "source": [
    "<p>Selon wikipedia , le mode d'emploi serait le suivant :</p>"
   ]
  },
  {
   "cell_type": "markdown",
   "id": "b52d0c8c",
   "metadata": {},
   "source": [
    "<h3>Mode d'emploi</h3>\n",
    "\n",
    "\n",
    "<p>1. Ordonner les sommets par ordre décroissant de degrés.</p>\n",
    "<p>2. Colorier un sommet de degré maximum avec la couleur 1.</p>\n",
    "<p>3. Choisir un sommet avec $DSAT$ maximum. Si conflit choisir celui avec $dg$ maximum.</p>\n",
    "<p>4. Colorier ce sommet par la plus petite couleur possible</p>\n",
    "<p>5. Si tous les sommets sont coloriés alors stop. Sinon continuer à chercher un sommet $DSAT$ minimum.</p>\n",
    "\n"
   ]
  },
  {
   "cell_type": "markdown",
   "id": "d9460432",
   "metadata": {},
   "source": [
    "<h3> 1. Une longue route pour parvenir à l'arc en ciel </h3>"
   ]
  },
  {
   "cell_type": "markdown",
   "id": "eaef107d",
   "metadata": {},
   "source": [
    "<h3>1.1 Commencement </h3>"
   ]
  },
  {
   "cell_type": "markdown",
   "id": "783c7231",
   "metadata": {},
   "source": [
    "<p><i><strong>tri_degree</strong></i> est une fonction qui permet de retrourner l'ensemble des sommets d'un graphe trier (ordre décroissant) par degré de saturation </p>"
   ]
  },
  {
   "cell_type": "code",
   "execution_count": null,
   "id": "45bb20af",
   "metadata": {},
   "outputs": [],
   "source": [
    "def tri_degree(g):\n",
    "    \"\"\"Tri par ordre décroissant de tous les sommets du graphe en fonction de leur degrée\"\"\"\n",
    "    \n",
    "    sommets={}\n",
    "    for i in g.nodes():\n",
    "        sommets[i]=g.degree(i)\n",
    "    \n",
    "    #the dictionary is sorted by value and exported as a list in descending order\n",
    "    sommets_tries=[i[0] for i in sorted(sommets.items(), key=lambda x:x[1])]\n",
    "    \n",
    "    return sommets_tries[::-1] "
   ]
  },
  {
   "cell_type": "markdown",
   "id": "de14b2b1",
   "metadata": {},
   "source": [
    "<p> Voici l'algorithme de Brelaz, il était nécessaire d'implémenter en amont la fonction <i><strong>tri_degree</strong></i> afin de respecter la contrainte n*1 spécifier ci-dessus</p>"
   ]
  },
  {
   "cell_type": "code",
   "execution_count": null,
   "id": "856bb281",
   "metadata": {},
   "outputs": [],
   "source": [
    "def brelaz(g):\n",
    "    \"\"\"Coloration de graphe à l'aide de l'algorithme de Brélaz (ou dsatur)\"\"\"\n",
    "\n",
    "    taille_g = g.number_of_nodes()\n",
    "    nb_sommets= g.nodes()\n",
    "    nb_arêtes=g.edges()\n",
    "    degree=g.degree()\n",
    "    \n",
    "    #étape 1\n",
    "    \n",
    "    #tri des sommets du graphe g selon leurs degrés grâce à la fonction tri_degree\n",
    "    #choix du sommet ayant le plus grand degré\n",
    "    \n",
    "    sommet_selectionne=tri_degree(g)[0]\n",
    "\n",
    "    #initialisation du degré de saturation\n",
    "    saturation_degre=dict(zip(nb_sommets,[0]*taille_g))\n",
    "\n",
    "    #La limite supérieure du nombre chromatique est égale au degré maximal du sommet + 1.\n",
    "    nombre_chromatique_limite_superieur=range(degree(sommet_selectionne)+1)\n",
    "\n",
    "    #étape 2\n",
    "    \n",
    "    #attribue la première couleur au sommet avec le degré maximum\n",
    "    attribution_couleurs={}\n",
    "    attribution_couleurs[sommet_selectionne]=0\n",
    "\n",
    "    #rempli chaque sommet du graphe g avec une couleur\n",
    "    while len(attribution_couleurs)<taille_g:\n",
    "\n",
    "        #les degrés de saturation servent également de file (parcours en profondeur)\n",
    "        #retire un sommet coloré de la file \n",
    "        saturation_degre.pop(sommet_selectionne)\n",
    "\n",
    "        #actualise les degrés de saturation après l'affectation des couleurs\n",
    "        for sommet in nb_arêtes(sommet_selectionne):\n",
    "            if sommet in saturation_degre:\n",
    "                saturation_degre[sommet]+=1\n",
    "\n",
    "        #étape 3\n",
    "        \n",
    "        #pour les sommets non colorés\n",
    "        #choix du sommet ayant le plus grand degré\n",
    "        degre_sommet_verifie=[sommet for sommet in saturation_degre if saturation_degre[sommet]\n",
    "                               ==max(saturation_degre.values())]\n",
    "        \n",
    "        #s'il y a une égalité, l'algorithme choisi celui qui a le plus grand degré\n",
    "        if len(degre_sommet_verifie)>1:\n",
    "            distribution_degre=[degree(sommet) for sommet in degre_sommet_verifie]\n",
    "            sommet_selectionne=degre_sommet_verifie[distribution_degre.index(max(distribution_degre))]\n",
    "        else:\n",
    "            sommet_selectionne=degre_sommet_verifie[0]\n",
    "            \n",
    "        #étape 4\n",
    "        \n",
    "        #exclu les couleurs utilisées par les voisins\n",
    "        #attribue la couleur la plus petite possible au sommet sélectionné\n",
    "        couleurs_exclues=[attribution_couleurs[sommet] \n",
    "                         for sommet in g.neighbors(sommet_selectionne) if sommet in attribution_couleurs]\n",
    "        couleur_selectionnee=[couleur\n",
    "                        for couleur in nombre_chromatique_limite_superieur if couleur not in couleurs_exclues][0]\n",
    "        attribution_couleurs[sommet_selectionne]=couleur_selectionnee\n",
    "\n",
    "        \n",
    "    return attribution_couleurs"
   ]
  },
  {
   "cell_type": "markdown",
   "id": "ae2526e3",
   "metadata": {},
   "source": [
    "<h3>1.2 Comparaison : Algorithme de coloration gloutonne VS algorithme de Brelaz </h3> "
   ]
  },
  {
   "cell_type": "markdown",
   "id": "0a3d5a37",
   "metadata": {},
   "source": [
    "<p> Et si nous comparions deux types d'algorithme pour la coloration d'un graphe ?<br> D'une part nous auront l'algorithme de Brelaz. Puis d'autre part nous auront un algorithme de coloration glouton simple. </p>"
   ]
  },
  {
   "cell_type": "code",
   "execution_count": null,
   "id": "dca3d982",
   "metadata": {},
   "outputs": [],
   "source": [
    "def coloration_gloutonne(g):\n",
    "    '''Algorithme de coloration gloutonne.'''\n",
    "    longueur_couleur = iter(range(0, len(g)))\n",
    "    coloration = {}\n",
    "    couleurs_utilises = set()\n",
    "    sommets = [sommet[0] for sommet in g.degree()]\n",
    "    coloration[sommets.pop(0)] = next(longueur_couleur)  # couleur des sommets avec les codes couleurs\n",
    "    couleurs_utilises = {i for i in coloration.values()}\n",
    "    while len(sommets) != 0:\n",
    "        sommet = sommets.pop(0)\n",
    "        couleurs_voisins = {coloration[voisin] for voisin in\n",
    "                            list(filter(lambda x: x in coloration, g.neighbors(sommet)))}\n",
    "        if len(couleurs_voisins) == len(couleurs_utilises):\n",
    "            couleurs = next(longueur_couleur)\n",
    "            couleurs_utilises.add(couleurs)\n",
    "            coloration[sommet] = couleurs\n",
    "        else:\n",
    "            coloration[sommet] = next(iter(couleurs_utilises - couleurs_voisins))\n",
    "    return coloration"
   ]
  },
  {
   "cell_type": "markdown",
   "id": "d980f1aa",
   "metadata": {},
   "source": [
    "<h3>1.3 Test de coloration d'un graphe </h3> "
   ]
  },
  {
   "cell_type": "code",
   "execution_count": null,
   "id": "6c93b691",
   "metadata": {},
   "outputs": [],
   "source": [
    "#coloration_gloutonne\n",
    "\n"
   ]
  },
  {
   "cell_type": "code",
   "execution_count": null,
   "id": "edb0834e",
   "metadata": {},
   "outputs": [],
   "source": [
    "#Brelaz\n",
    "\n"
   ]
  },
  {
   "cell_type": "markdown",
   "id": "22956081",
   "metadata": {},
   "source": [
    "<p>Nous remarquons que l'algorithme de Brelaz colorie de le graphe de la meme façon que celui de coloration_gloutonne </p>"
   ]
  },
  {
   "cell_type": "markdown",
   "id": "0a3302a5",
   "metadata": {},
   "source": [
    "<p>Cependant,l'algorithme de DSATUR que nous vennons de voir ci-dessus ne donne malheureusement pas le nombre chromatique d'un graphe mais plutôt une borne supérieur.</p>"
   ]
  },
  {
   "cell_type": "markdown",
   "id": "eb0a9a07",
   "metadata": {},
   "source": [
    "<h3>1.4 Etude de structure plus précises :</h3>"
   ]
  },
  {
   "cell_type": "markdown",
   "id": "f5dca394",
   "metadata": {},
   "source": [
    "<p>Maintenant ! Interessons nous à l'eventualitée qu'il y ait un cycle présent au sein d'un graphe. <br>\n",
    "<strong> Petit rappel : </strong> un cycle peut etre définit comme etant une suite de sommet qui revient par la suite sur lui. Ce note, $Som(Zn)$ = {$0$,...,$n-1$}  $Arc(Zn)$ ={$(i-1,i)$| $i$ ∈ {$1$,...,$n-1$}} ∪ {$(n−1,0)$}\n",
    "</p>\n",
    "<p>Il est important de prendre en compte plusieurs cas de figure pour réaliser les tests nécessaires sur notre algorithme final (Brelaz). En l'occurence nous allons essayer de prouver la prorpiété qui stipule que le nombre chromatique d'un cycle correspond au n sommet qu'elle comporte est vrai </p>"
   ]
  },
  {
   "cell_type": "markdown",
   "id": "c6565b02",
   "metadata": {},
   "source": [
    "<p> La coloration de graphe englobe plusieurs propriétes, selon le type de graphe, l'attribution de couleur sera différentes d'un graphe à l'autre. </p>\n",
    "<p>Ainsi, voici quelques propriétés à savoir sur la coloration de structure précise au sein d'un graphe: <br>\n",
    "Soit une chaine (dans le cas d'un graphe non orienté) ou chemin (dans le cas d'un graphe orienté) noté $Cn$ a un nombre chromatique qui équivaut à 2.\n",
    "</p>"
   ]
  },
  {
   "cell_type": "markdown",
   "id": "9737c7d3",
   "metadata": {},
   "source": [
    "<p>Afin de rechercher les éventuelles chemins ou cycles du graphe, il faut utiliser l'algorithme de parcours en profondeur. La fonction <i><strong> parcours_en_profondeur_iterative</strong></i> est intéressante etant donné qu'elle nous retourne chaque sommet explorer à chaque itération de la boucle.<br> Comment fonctionne t-il ?<br> Il s’agit d’un type de parcours dont le but est d’explorer un chemin jusqu’à ce que l’on ne puisse plus avancer dans le graphe. Dans ce sens, partir d’un sommet de départ, nous explorons un de ses voisins et ainsi de suite.   </p>"
   ]
  },
  {
   "cell_type": "code",
   "execution_count": 15,
   "id": "35d832e1",
   "metadata": {},
   "outputs": [],
   "source": [
    "def parcours_en_profondeur_iterative(graphe):\n",
    "    visités = []\n",
    "    sommets = list(graphe.nodes())   \n",
    "    while sommets:\n",
    "        sommet_en_cours = sommets.pop()\n",
    "        if sommet_en_cours not in visités:\n",
    "            print('Tentative d exploration du sommet :' + str(sommet_en_cours))\n",
    "            for T in graphe[sommet_en_cours]:\n",
    "                if T not in visités:\n",
    "                    #pour tout les sommets voisins non visités, nous effectuons un parcours en profondeur\n",
    "                    sommets.append(T)\n",
    "            visités.append(sommet_en_cours)\n",
    "            print('Exploration du sommet :' + str(sommet_en_cours))\n",
    "    return visités"
   ]
  },
  {
   "cell_type": "markdown",
   "id": "ed86249b",
   "metadata": {},
   "source": [
    "<p> La fonction <i><strong> parcours_en_profondeur_récursif</strong></i> effectue egalement la même chose que la fonction précédente.<br> Cependant, celle-ci est intéressante pour nous etant donné qu'elle nous retourne chaque sommet explorer à chaque itération de la boucle. </p>"
   ]
  },
  {
   "cell_type": "code",
   "execution_count": 16,
   "id": "101de919",
   "metadata": {},
   "outputs": [],
   "source": [
    "def parcours_en_profondeur_récursif(graphe, sommet_en_cours:str, sommets_visités=[]):\n",
    "    print('Tentative d exploration du sommet :' + str(sommet_en_cours))\n",
    "    if sommet_en_cours not in sommets_visités:\n",
    "        sommets_visités.append(sommet_en_cours) #Ajoute le sommet en cours au noeud visité\n",
    "        print('Exploration du sommet :' + str(sommet_en_cours))\n",
    "    sommets_voisins_non_visités = []\n",
    "    for sommet_voisin in graphe[sommet_en_cours]:\n",
    "        if sommet_voisin not in sommets_visités:\n",
    "            sommets_voisins_non_visités.append(sommet_voisin) # liste des sommets voisins non encore visités\n",
    "            for sommet in sommets_voisins_non_visités: #pour tout les sommets voisins non visités, nous effectuons un parcours en profondeur\n",
    "                parcours_en_profondeur_récursif(graphe, sommet, sommets_visités)\n",
    "    return sommets_visités"
   ]
  },
  {
   "cell_type": "markdown",
   "id": "ddacddd5",
   "metadata": {},
   "source": [
    "<p>Voici la fonction   <i><strong>possede_cycle</strong></i> qui permet de retrouver True si le graphe passé en paramètre est un cycle, sinon retourne False </p>"
   ]
  },
  {
   "cell_type": "code",
   "execution_count": null,
   "id": "5412a58f",
   "metadata": {},
   "outputs": [],
   "source": [
    "def possede_cycle(g):\n",
    "    for i in graphe:  # on lance le parcours en profondeur pour chaque sommet x du graphe\n",
    "        if parcours_profondeur_recursif(g, i): # si on trouve un cycle à partir d'un sommet i, la réponse est True\n",
    "            return True\n",
    "    return False  # sinon c'est False = il n'existe donc pas de cycle dans ce cas-là"
   ]
  },
  {
   "cell_type": "code",
   "execution_count": null,
   "id": "58f72227",
   "metadata": {},
   "outputs": [],
   "source": [
    "possede_cycle()"
   ]
  },
  {
   "cell_type": "markdown",
   "id": "9a61794a",
   "metadata": {},
   "source": [
    "<p> Nous implémentons à présent la fonction <i><strong>cherche_cycles</strong></i> pour déterminer si un graphe est composé d'un cycle, ce qui va nous permettre par la suite de déterminer le nombre chromatique de celui-ci </p>"
   ]
  },
  {
   "cell_type": "code",
   "execution_count": null,
   "id": "2806666e",
   "metadata": {},
   "outputs": [],
   "source": [
    "def cherche_cycles(g, source=None):\n",
    "    \n",
    "    if source is None:\n",
    "        # produire des arêtes pour tous les composants\n",
    "        sommets=[i[0] for i in g.nodes()]\n",
    "    else:\n",
    "        # produire des arêtes pour les composants avec la source\n",
    "        sommets=[source]\n",
    "    #  variables supplémentaires pour la détection des cycles :\n",
    "    cycle_pile = []\n",
    "    cycles = set()\n",
    "    \n",
    "    \n",
    "def cycle_obtenu(cycle):\n",
    "        \n",
    "        m = min(cycle)\n",
    "        min_index = cycle.index(m)\n",
    "        min_index_plus_1 = min_index + 1 if min_index < len(cycle) - 1 else 0\n",
    "        if cycle[min_index-1] > cycle[min_index_plus_1]:\n",
    "            resultat = cycle[min_index:] + cycle[:min_index]\n",
    "        else:\n",
    "            resultat = list(reversed(cycle[:min_index_plus_1])) + list(reversed(cycle[min_index_plus_1:]))\n",
    "        return tuple(resultat)\n",
    "    \n",
    "    for debut in sommets:\n",
    "        if debut in cycle_pile:\n",
    "            continue\n",
    "        cycle_pile.append(debut)\n",
    "        \n",
    "        pile = [(debut,iter(g[debut]))]\n",
    "        while pile:\n",
    "            p1,p2 = pile[-1]\n",
    "            try:\n",
    "                p_2 = next(p2)\n",
    "                \n",
    "                if p_2 not in cycle_pile:\n",
    "                    cycle_pile.append(p_2)\n",
    "                    pile.append((p_2,iter(g[p_2])))\n",
    "                else:\n",
    "                    i = cycle_pile.index(p_2)\n",
    "                    if i < len(cycle_pile) - 2: \n",
    "                        cycles.add(cycle_obtenu(cycle_pile[i:]))\n",
    "                \n",
    "            except StopIteration:\n",
    "                pile.pop()\n",
    "                cycle_pile.pop()\n",
    "    \n",
    "    return [list(i) for i in cycles]"
   ]
  },
  {
   "cell_type": "code",
   "execution_count": null,
   "id": "9386a5a0",
   "metadata": {},
   "outputs": [],
   "source": [
    "cherche_cycles()"
   ]
  },
  {
   "cell_type": "markdown",
   "id": "f3fa8656",
   "metadata": {},
   "source": [
    "<p>La fonction  <i><strong>cherche_chemins</strong></i> va chercher dans tout le graphe les chemins existant. </p>"
   ]
  },
  {
   "cell_type": "code",
   "execution_count": 18,
   "id": "7ab211b2",
   "metadata": {},
   "outputs": [
    {
     "ename": "IndentationError",
     "evalue": "unindent does not match any outer indentation level (<tokenize>, line 5)",
     "output_type": "error",
     "traceback": [
      "\u001b[0;36m  File \u001b[0;32m\"<tokenize>\"\u001b[0;36m, line \u001b[0;32m5\u001b[0m\n\u001b[0;31m    chemin = chemin + [debut]\u001b[0m\n\u001b[0m    ^\u001b[0m\n\u001b[0;31mIndentationError\u001b[0m\u001b[0;31m:\u001b[0m unindent does not match any outer indentation level\n"
     ]
    }
   ],
   "source": [
    "def cherche_chemins(g, debut, fin, chemin=[]):\n",
    "     \"\"\" recherche et retourne une liste de tous les chemins du le graphe g \n",
    "    allant du sommet de début au sommet de fin de chemin qui sont passés en paramètres.\"\"\"\n",
    "        \n",
    "    chemin = chemin + [debut]\n",
    "    if debut == fin:\n",
    "        return [chemin]\n",
    "    if not g.nodes(debut):\n",
    "        return []\n",
    "    chemins_liste = []\n",
    "    for sommet in g[debut]:\n",
    "        if sommet not in chemin:\n",
    "            nouveaux_chemins = cherche_chemins(g, sommet, fin, chemin)\n",
    "            for nouveau_chemin in nouveaux_chemins:\n",
    "                chemins_liste.append(nouveau_chemin)\n",
    "    return chemins_liste"
   ]
  },
  {
   "cell_type": "code",
   "execution_count": null,
   "id": "06cff0e0",
   "metadata": {},
   "outputs": [],
   "source": [
    "cherche_chemins()"
   ]
  },
  {
   "cell_type": "markdown",
   "id": "76daa3d5",
   "metadata": {},
   "source": [
    "<p>N'oublions pas bien evidemment, d'aborder le sujet du problème des cliques. En effet, en informatique un problème réccurent s'impose aux developpeurs : trouver des cliques au sein d'un graphe. La découverte de clique consiste principalement à determiner les cliques maximales au sein du graphe donné.</p>"
   ]
  },
  {
   "cell_type": "markdown",
   "id": "ce023050",
   "metadata": {},
   "source": [
    "<p><strong>Petit rappel :</strong> Une clique peut etre définit comme étant un sous-ensemble de sommets, tous inter-reliers au sein d'un graphe. Noté : $Kn$  </p>"
   ]
  },
  {
   "cell_type": "code",
   "execution_count": null,
   "id": "ce5a1c16",
   "metadata": {},
   "outputs": [],
   "source": [
    "def max_clique_recursive(clique_actuel, g, sommets_candidats):\n",
    "    \n",
    "    '''modifie récursivement la variable globale nommée max_clique'''\n",
    "    \n",
    "    global max_clique\n",
    "    longueur_c_actuel = len(clique_actuel)  # taille de la clique que nous voulons élargir actuellement\n",
    "    longueur_max_clique = len(max_clique)  # taille de la clique de taille maximale actuelle\n",
    "    longueur_candidats = len(sommets_candidats) # taille de l'ensemble des candidats qui sont capables d'étendre notre clique\n",
    "    if longueur_candidats == 0:\n",
    "      # si la liste des candidats est vide, \n",
    "        # vérifie que la clique actuelle est peut-être notre clique de taille maximale\n",
    "        if longueur_c_actuel > longueur_max_clique:\n",
    "            max_clique = clique_actuel\n",
    "            # remplace le dernier sommet candidat par le candidat suivant\n",
    "        clique_actuel = clique_actuel[:longueur_c_actuel - 1]\n",
    "    else:\n",
    "        for clique_sommet in sommets_candidats:\n",
    "            # vérifie pour chacun des candidats leur capacité d'écraser notre clique de taille maximale actuelle\n",
    "            if (g.degree(clique_sommet) + longueur_c_actuel) < longueur_max_clique:\n",
    "                continue\n",
    "            copie_clique = clique_actuel.copy()\n",
    "            nouveaux_candidats = list(g.neighbors(clique_sommet))\n",
    "            if (len(nouveaux_candidats) + longueur_c_actuel + 1) >= longueur_max_clique:\n",
    "                copie_clique.append(clique_sommet)\n",
    "                copie_graphe = g.copy()\n",
    "                copie_graphe.remove_nodes_from(g.nodes() - nouveaux_candidats)\n",
    "                max_clique_recursive(copie_clique, copie_graphe, nouveaux_candidats)"
   ]
  },
  {
   "cell_type": "code",
   "execution_count": null,
   "id": "e53481eb",
   "metadata": {},
   "outputs": [],
   "source": [
    "max_clique_recursive()"
   ]
  },
  {
   "cell_type": "markdown",
   "id": "85ec5198",
   "metadata": {},
   "source": [
    "<p>La fonction ci-dessous<i><strong> clique_taille_maximale</strong></i> permet de déterminer pour un graphe donné, la taille maximal d'ue clique qui fait bien evidemment référence au nombre chromatique du graphe. Car si nous nous référons à l'une des propositions de la théorie des couleurs ; Le nombre chromatique d'une clique noté $Kn$ équivaut à $n$ sommet </p>"
   ]
  },
  {
   "cell_type": "code",
   "execution_count": null,
   "id": "bf574080",
   "metadata": {},
   "outputs": [],
   "source": [
    "def clique_taille_maximale(g):\n",
    "    global max_clique\n",
    "    bb_recurcive(list(), g, list(g.nodes()))\n",
    "    return max_clique\n",
    "print(clique_taille_maximale(g))\n",
    "print('Ainsi, le nombre chromatique du graphe passé en paramètre est de', len(clique_taille_maximale(g)))"
   ]
  },
  {
   "cell_type": "code",
   "execution_count": null,
   "id": "1c58b999",
   "metadata": {},
   "outputs": [],
   "source": [
    "clique_taille_maximale(g)"
   ]
  },
  {
   "cell_type": "markdown",
   "id": "ec5355c1",
   "metadata": {},
   "source": [
    "<p> Ainsi , pour un graphe comme celui-ci de 8 sommets , le nombre chromatique associé à ce graphe autrement dit le nombre de couleur le plus petit pour colorier ce graphe équivaut à 8 soit le nombre de sommet ! </p>"
   ]
  },
  {
   "cell_type": "markdown",
   "id": "82baf872",
   "metadata": {},
   "source": [
    "<h3> 1.3 Test sur un plus gros graphe ? </h3>\n",
    "\n",
    "<p> Nous venions de tester l'algorithme de Brelaz sur un graphe comprenant 8 sommets. A votre avis quel sera le nombre chromatique d'un graphe de 50 sommets ?  10 , 15 , 20 ? </p>"
   ]
  },
  {
   "cell_type": "markdown",
   "id": "64d8e7ca",
   "metadata": {},
   "source": [
    "<p>Pour expérimenter cela, nous allons executer le code suivant qui génère un graphe aléatoire </p>"
   ]
  },
  {
   "cell_type": "code",
   "execution_count": null,
   "id": "d111a7eb",
   "metadata": {},
   "outputs": [],
   "source": [
    "#génère un graphe aléatoire\n",
    "import networkx as nx\n",
    "\n",
    "G =  nx.gnp_random_graph(33,0.5)\n",
    "\n",
    "plt.figure(figsize=(15,7))\n",
    "\n",
    "nx.draw(G, node_color='lightblue', \n",
    "        with_labels=True, \n",
    "        node_size=1000)"
   ]
  },
  {
   "cell_type": "code",
   "execution_count": null,
   "id": "f5e4cd31",
   "metadata": {},
   "outputs": [],
   "source": []
  },
  {
   "cell_type": "code",
   "execution_count": null,
   "id": "c3cd92a6",
   "metadata": {},
   "outputs": [],
   "source": []
  },
  {
   "cell_type": "markdown",
   "id": "77ca3af9",
   "metadata": {},
   "source": [
    "<div style=\"background-color:#955149; border : 3px solid black; border-radius : 0px; padding : 2%;text-align : center;font-size : 2em;font-weight : bold; color:#f5efe6;  text-shadow: 6px 3px #000; letter-spacing: 3px;\" >\n",
    "Visualisation de l'algorithme\n",
    "</div>"
   ]
  },
  {
   "cell_type": "markdown",
   "id": "98abd5d1",
   "metadata": {},
   "source": [
    "<h3> 2.1 L'algorithme de Brelaz, très utile dans la vie de tous les jours </h3>"
   ]
  },
  {
   "cell_type": "markdown",
   "id": "9fce2dbe",
   "metadata": {},
   "source": [
    "<p>Nous allons illustrer cela avec un exemple :\n",
    "Pannifier les horaires au sein d'un festival de musique Coachella : \n",
    "   \n",
    "Les différents artistes et groupes représentant les sommets du graphe sont les suivants: \n",
    "    \n",
    "A  -> Adèle\n",
    "B -> les Beatles\n",
    "C  -> Céline dion\n",
    "D  -> David Guetta\n",
    "E  -> Ed Sheeran\n",
    "F  -> France Gall\n",
    "G  ->  Green day\n",
    "H  -> Harry Styles   \n",
    "     \n",
    "Le but étant d'attribuer des horaires différentes au différents artistes et groupe. De façon à ce que chaque artistes et groupe ne jouent pas en meme temps. Il faut donc pour cela attribuer à chacun des groupe un crénaux qui sera exploitable durant le festival.\n",
    "Ainsi, nous allons nous demander quels sera le nombre de jours minimal pour déterminer le passage de chaque groupe. Sachant que pour des groupes ou artiste ayant la meme couleur, l'un joueura le matin et l'autre le soir.\n",
    "    \n",
    "En prenant en compte les différents liens existant entre les sommets du graphe :\n",
    "    \n",
    "- G est relié à C \n",
    "- C est relié à A et H\n",
    "- H est relié à C et B\n",
    "- B est relié à A et D\n",
    "- D est relié à A et B\n",
    "- A est relié à F,B,E,D\n",
    " \n",
    "\n",
    "</p>"
   ]
  },
  {
   "cell_type": "code",
   "execution_count": null,
   "id": "0d566b7a",
   "metadata": {},
   "outputs": [],
   "source": []
  },
  {
   "cell_type": "code",
   "execution_count": null,
   "id": "b0074b09",
   "metadata": {},
   "outputs": [],
   "source": []
  },
  {
   "cell_type": "code",
   "execution_count": null,
   "id": "1f8070e6",
   "metadata": {},
   "outputs": [],
   "source": []
  },
  {
   "cell_type": "markdown",
   "id": "39bd0548",
   "metadata": {},
   "source": [
    "<div style=\"background-color:#955149; border : 3px solid black; border-radius : 0px; padding : 2%;text-align : center;font-size : 2em;font-weight : bold; color:#f5efe6;  text-shadow: 6px 3px #000; letter-spacing: 3px;\" >\n",
    "Complexité de l'algorithme ?  \n",
    "</div>"
   ]
  },
  {
   "cell_type": "markdown",
   "id": "bf7dea59",
   "metadata": {},
   "source": [
    "<h3>3.1 Calcul du temps d'execution</h3>"
   ]
  },
  {
   "cell_type": "markdown",
   "id": "b405385d",
   "metadata": {},
   "source": [
    "<p> Il est important de vérifier si l'algorithme est optimal, le temps d'execution etant l'un des facteur majeur a prendre en compte. Pour ce faire, nous allons voir en combien de temps s'execute l'algorithme de Brelaz. </p>"
   ]
  },
  {
   "cell_type": "code",
   "execution_count": null,
   "id": "46f6de49",
   "metadata": {},
   "outputs": [],
   "source": [
    "import timeit\n",
    "\n",
    "\n",
    "\n",
    "print(timeit.timeit(brelaz())"
   ]
  },
  {
   "cell_type": "markdown",
   "id": "c7f2d312",
   "metadata": {},
   "source": [
    "<h3>3.2 Détermination de la complexité de l'algorithme de Brelaz </h3>"
   ]
  },
  {
   "cell_type": "markdown",
   "id": "90272b03",
   "metadata": {},
   "source": [
    "<p>Nous allons a présent étudier la compléxité de notre programme afin de voir si celui-ci se veut etre performant et optimal </p>\n",
    "<p>Dans le cadre de ce projet, nous allons nous conférer à une approche asymptotique le principe consiste à calculer le nombre d'opération élémentaires  que comporte le programme.</p><br>\n",
    "<p>Ainsi, pour calculer la compléxité d'un algorithme nous utilisons la notation $Grand$ $O$. Ainsi, il est préférable pour nous d'apporter une estimation du nombre d'operations élémentaire. </p>"
   ]
  },
  {
   "cell_type": "markdown",
   "id": "8f4a0c59",
   "metadata": {},
   "source": [
    "<p> La complexité de l'algorithme de Brelaz equivaut à $O$($V$+$E$) car le programme parcours chaque sommet et chaque arretes. Car le programme comporte une boucle   </p>"
   ]
  },
  {
   "cell_type": "code",
   "execution_count": null,
   "id": "9cc1c699",
   "metadata": {},
   "outputs": [],
   "source": []
  },
  {
   "cell_type": "code",
   "execution_count": null,
   "id": "aeb6d231",
   "metadata": {},
   "outputs": [],
   "source": []
  }
 ],
 "metadata": {
  "kernelspec": {
   "display_name": "Python 3",
   "language": "python",
   "name": "python3"
  },
  "language_info": {
   "codemirror_mode": {
    "name": "ipython",
    "version": 3
   },
   "file_extension": ".py",
   "mimetype": "text/x-python",
   "name": "python",
   "nbconvert_exporter": "python",
   "pygments_lexer": "ipython3",
   "version": "3.8.8"
  }
 },
 "nbformat": 4,
 "nbformat_minor": 5
}
